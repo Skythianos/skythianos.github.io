{
  "nbformat": 4,
  "nbformat_minor": 0,
  "metadata": {
    "kernelspec": {
      "name": "python3",
      "display_name": "Python 3"
    },
    "colab": {
      "name": "Copy of Copy of KonCept512 (kuti version)",
      "provenance": [],
      "collapsed_sections": [],
      "machine_shape": "hm",
      "include_colab_link": true
    },
    "accelerator": "GPU"
  },
  "cells": [
    {
      "cell_type": "markdown",
      "metadata": {
        "id": "view-in-github",
        "colab_type": "text"
      },
      "source": [
        "<a href=\"https://colab.research.google.com/github/Skythianos/skythianos.github.io/blob/main/Copy_of_Copy_of_KonCept512_(kuti_version).ipynb\" target=\"_parent\"><img src=\"https://colab.research.google.com/assets/colab-badge.svg\" alt=\"Open In Colab\"/></a>"
      ]
    },
    {
      "cell_type": "markdown",
      "metadata": {
        "id": "XDdbdkexFk0t"
      },
      "source": [
        "### Install and load libraries"
      ]
    },
    {
      "cell_type": "code",
      "metadata": {
        "id": "sVxpvhKMLG2W"
      },
      "source": [
        "%%capture\n",
        "\n",
        "# Setup paths\n",
        "drive_mount = '/content/drive/'\n",
        "drive_root = drive_mount + 'My Drive/research/data/'  # persistent storage for dataset images\n",
        "data_root = '/content/koniq/'                         # library install path\n",
        "\n",
        "!pip install kuti\n",
        "!git clone https://github.com/subpic/koniq.git\n",
        "!pip install munch"
      ],
      "execution_count": null,
      "outputs": []
    },
    {
      "cell_type": "code",
      "metadata": {
        "colab": {
          "base_uri": "https://localhost:8080/"
        },
        "id": "kRMraeLxftuh",
        "outputId": "04523ec9-654f-4cb0-a136-e413c02ebae9"
      },
      "source": [
        "from kuti import model_helper as mh\n",
        "from kuti import applications as apps\n",
        "from kuti import tensor_ops as ops\n",
        "from kuti import generic as gen\n",
        "from kuti import image_utils as iu\n",
        "\n",
        "import pandas as pd, numpy as np, os\n",
        "from matplotlib import pyplot as plt\n",
        "from munch import Munch\n",
        "\n",
        "from google.colab import drive\n",
        "drive.mount(drive_mount)"
      ],
      "execution_count": null,
      "outputs": [
        {
          "output_type": "stream",
          "name": "stdout",
          "text": [
            "Loaded Kuti\n",
            "Mounted at /content/drive/\n"
          ]
        }
      ]
    },
    {
      "cell_type": "markdown",
      "metadata": {
        "id": "fQntwgm6FBn0"
      },
      "source": [
        "### Setup KonIQ-10k dataset images\n",
        "Download images resized to 512x384 pixels (originals are 1024x768)"
      ]
    },
    {
      "cell_type": "code",
      "metadata": {
        "id": "KuZXHjjyXK2M"
      },
      "source": [
        "%%capture\n",
        "\n",
        "gen.make_dirs(drive_root+'koniq/')\n",
        "drive_image_path = drive_root+'koniq/koniq10k_512x384.zip'\n",
        "if not os.path.exists(drive_image_path):\n",
        "  !wget -O \"$drive_image_path\" \"http://datasets.vqa.mmsp-kn.de/archives/koniq10k_512x384.zip\"\n",
        "\n",
        "gen.make_dirs(data_root+'images/')\n",
        "data_images_path = data_root+'images/'\n",
        "!cp  \"$drive_image_path\" \"$data_images_path\"\n",
        "%cd $data_images_path\n",
        "!unzip -o koniq10k_512x384.zip\n",
        "%cd $data_root"
      ],
      "execution_count": null,
      "outputs": []
    },
    {
      "cell_type": "markdown",
      "metadata": {
        "id": "xwy8XM54K_J8"
      },
      "source": [
        "### Define the DF-CNN-IQA model"
      ]
    },
    {
      "cell_type": "code",
      "metadata": {
        "id": "N2k21MsYK_KF",
        "colab": {
          "base_uri": "https://localhost:8080/"
        },
        "outputId": "cac9183e-e472-4385-d1b7-f4a0410c877f"
      },
      "source": [
        "from tensorflow.keras.models import Model\n",
        "\n",
        "ids = pd.read_csv(data_root + 'metadata/koniq10k_distributions_sets.csv')\n",
        "\n",
        "# Build scoring model\n",
        "base_model_NASNetMobile, preprocess_fn_NASNetMobile = apps.get_model_imagenet(apps.NASNetMobile)\n",
        "base_model_InceptionV3, preprocess_fn_InceptionV3   = apps.get_model_imagenet(apps.InceptionV3)\n",
        "base_model_VGG16, preprocess_fn_VGG16   = apps.get_model_imagenet(apps.VGG16)\n",
        "base_model_ResNet50, preprocess_fn_ResNet50   = apps.get_model_imagenet(apps.ResNet50)\n",
        "base_model_InceptionResNetV2, preprocess_fn_InceptionResNetV2   = apps.get_model_imagenet(apps.InceptionResNetV2)\n",
        "base_model_DenseNet201, preprocess_fn_DenseNet201   = apps.get_model_imagenet(apps.DenseNet201)\n",
        "\n",
        "head_1 = apps.fc_layers(base_model_NASNetMobile.output, name='fc', fc_sizes = [2048, 1024, 256, 1], dropout_rates = [0.25, 0.25, 0.5, 0], batch_norm    = 2)\n",
        "head_2 = apps.fc_layers(base_model_InceptionV3.output, name='fc', fc_sizes = [2048, 1024, 256, 1], dropout_rates = [0.25, 0.25, 0.5, 0], batch_norm    = 2)\n",
        "head_3 = apps.fc_layers(base_model_VGG16.output, name='fc', fc_sizes = [2048, 1024, 256, 1], dropout_rates = [0.25, 0.25, 0.5, 0], batch_norm    = 2)\n",
        "head_4 = apps.fc_layers(base_model_ResNet50.output, name='fc', fc_sizes = [2048, 1024, 256, 1], dropout_rates = [0.25, 0.25, 0.5, 0], batch_norm    = 2)\n",
        "head_5 = apps.fc_layers(base_model_InceptionResNetV2.output, name='fc', fc_sizes = [2048, 1024, 256, 1], dropout_rates = [0.25, 0.25, 0.5, 0], batch_norm    = 2)\n",
        "head_6 = apps.fc_layers(base_model_DenseNet201.output, name='fc', fc_sizes = [2048, 1024, 256, 1], dropout_rates = [0.25, 0.25, 0.5, 0], batch_norm    = 2)    \n",
        "\n",
        "model_1 = Model(inputs = base_model_NASNetMobile.input, outputs = head_1)\n",
        "model_2 = Model(inputs = base_model_InceptionV3.input, outputs = head_2)\n",
        "model_3 = Model(inputs = base_model_VGG16.input, outputs = head_3)\n",
        "model_4 = Model(inputs = base_model_ResNet50.input, outputs = head_4)\n",
        "model_5 = Model(inputs = base_model_InceptionResNetV2.input, outputs = head_5)\n",
        "model_6 = Model(inputs = base_model_DenseNet201.input, outputs = head_6)\n",
        "\n",
        "# Parameters of the generator\n",
        "pre_1 = lambda im: preprocess_fn_NASNetMobile(iu.ImageAugmenter(im, remap=False).fliplr().result)\n",
        "pre_2 = lambda im: preprocess_fn_InceptionV3(iu.ImageAugmenter(im, remap=False).fliplr().result)\n",
        "pre_3 = lambda im: preprocess_fn_VGG16(iu.ImageAugmenter(im, remap=False).fliplr().result)\n",
        "pre_4 = lambda im: preprocess_fn_ResNet50(iu.ImageAugmenter(im, remap=False).fliplr().result)\n",
        "pre_5 = lambda im: preprocess_fn_InceptionResNetV2(iu.ImageAugmenter(im, remap=False).fliplr().result)\n",
        "pre_6 = lambda im: preprocess_fn_DenseNet201(iu.ImageAugmenter(im, remap=False).fliplr().result)\n",
        "\n",
        "gen_params_1 = dict(batch_size = 16, data_path = data_root+'images/512x384/', process_fn = pre_1, input_shape = (384,512,3), inputs = ['image_name'], outputs = ['MOS'])\n",
        "gen_params_2 = dict(batch_size = 16, data_path = data_root+'images/512x384/', process_fn = pre_2, input_shape = (384,512,3), inputs = ['image_name'], outputs = ['MOS'])\n",
        "gen_params_3 = dict(batch_size = 16, data_path = data_root+'images/512x384/', process_fn = pre_3, input_shape = (384,512,3), inputs = ['image_name'], outputs = ['MOS'])\n",
        "gen_params_4 = dict(batch_size = 16, data_path = data_root+'images/512x384/', process_fn = pre_4, input_shape = (384,512,3), inputs = ['image_name'], outputs = ['MOS'])\n",
        "gen_params_5 = dict(batch_size = 16, data_path = data_root+'images/512x384/', process_fn = pre_5, input_shape = (384,512,3), inputs = ['image_name'], outputs = ['MOS'])\n",
        "gen_params_6 = dict(batch_size = 16, data_path = data_root+'images/512x384/', process_fn = pre_6, input_shape = (384,512,3), inputs = ['image_name'], outputs = ['MOS'])\n",
        "\n",
        "# Wrapper for the model, helps with training and testing\n",
        "helper_1 = mh.ModelHelper(model_1, 'Model_1', ids, loss='MSE', metrics=[\"MAE\", ops.plcc_tf], monitor_metric = 'val_loss', monitor_mode   = 'min', \n",
        "                     multiproc = True, workers = 5, logs_root = drive_root + 'logs/koniq', models_root = drive_root + 'models/koniq', gen_params = gen_params_1)\n",
        "helper_2 = mh.ModelHelper(model_2, 'Model_2', ids, loss='MSE', metrics=[\"MAE\", ops.plcc_tf], monitor_metric = 'val_loss', monitor_mode   = 'min', \n",
        "                     multiproc = True, workers = 5, logs_root = drive_root + 'logs/koniq', models_root = drive_root + 'models/koniq', gen_params = gen_params_2)\n",
        "helper_3 = mh.ModelHelper(model_3, 'Model_3', ids, loss='MSE', metrics=[\"MAE\", ops.plcc_tf], monitor_metric = 'val_loss', monitor_mode   = 'min', \n",
        "                     multiproc = True, workers = 5, logs_root = drive_root + 'logs/koniq', models_root = drive_root + 'models/koniq', gen_params = gen_params_3)\n",
        "helper_4 = mh.ModelHelper(model_4, 'Model_4', ids, loss='MSE', metrics=[\"MAE\", ops.plcc_tf], monitor_metric = 'val_loss', monitor_mode   = 'min', \n",
        "                     multiproc = True, workers = 5, logs_root = drive_root + 'logs/koniq', models_root = drive_root + 'models/koniq', gen_params = gen_params_4)\n",
        "helper_5 = mh.ModelHelper(model_5, 'Model_5', ids, loss='MSE', metrics=[\"MAE\", ops.plcc_tf], monitor_metric = 'val_loss', monitor_mode   = 'min', \n",
        "                     multiproc = True, workers = 5, logs_root = drive_root + 'logs/koniq', models_root = drive_root + 'models/koniq', gen_params = gen_params_5)\n",
        "helper_6 = mh.ModelHelper(model_6, 'Model_6', ids, loss='MSE', metrics=[\"MAE\", ops.plcc_tf], monitor_metric = 'val_loss', monitor_mode   = 'min', \n",
        "                     multiproc = True, workers = 5, logs_root = drive_root + 'logs/koniq', models_root = drive_root + 'models/koniq', gen_params = gen_params_6)"
      ],
      "execution_count": null,
      "outputs": [
        {
          "output_type": "stream",
          "name": "stdout",
          "text": [
            "Loading model NASNetMobile\n",
            "Downloading data from https://storage.googleapis.com/tensorflow/keras-applications/nasnet/NASNet-mobile.h5\n",
            "24231936/24227760 [==============================] - 0s 0us/step\n",
            "24240128/24227760 [==============================] - 0s 0us/step\n",
            "Loading model InceptionV3\n",
            "Downloading data from https://storage.googleapis.com/tensorflow/keras-applications/inception_v3/inception_v3_weights_tf_dim_ordering_tf_kernels_notop.h5\n",
            "87916544/87910968 [==============================] - 1s 0us/step\n",
            "87924736/87910968 [==============================] - 1s 0us/step\n",
            "Loading model VGG16\n",
            "Downloading data from https://storage.googleapis.com/tensorflow/keras-applications/vgg16/vgg16_weights_tf_dim_ordering_tf_kernels_notop.h5\n",
            "58892288/58889256 [==============================] - 1s 0us/step\n",
            "58900480/58889256 [==============================] - 1s 0us/step\n",
            "Loading model ResNet50\n",
            "Downloading data from https://storage.googleapis.com/tensorflow/keras-applications/resnet/resnet50_weights_tf_dim_ordering_tf_kernels_notop.h5\n",
            "94773248/94765736 [==============================] - 1s 0us/step\n",
            "94781440/94765736 [==============================] - 1s 0us/step\n",
            "Loading model InceptionResNetV2\n",
            "Downloading data from https://storage.googleapis.com/tensorflow/keras-applications/inception_resnet_v2/inception_resnet_v2_weights_tf_dim_ordering_tf_kernels_notop.h5\n",
            "219062272/219055592 [==============================] - 3s 0us/step\n",
            "219070464/219055592 [==============================] - 3s 0us/step\n",
            "Loading model DenseNet201\n",
            "Downloading data from https://storage.googleapis.com/tensorflow/keras-applications/densenet/densenet201_weights_tf_dim_ordering_tf_kernels_notop.h5\n",
            "74842112/74836368 [==============================] - 2s 0us/step\n",
            "74850304/74836368 [==============================] - 2s 0us/step\n"
          ]
        }
      ]
    },
    {
      "cell_type": "markdown",
      "metadata": {
        "id": "tP_AKK539udA"
      },
      "source": [
        "### Train it"
      ]
    },
    {
      "cell_type": "code",
      "metadata": {
        "id": "zDburTNbH2qT",
        "colab": {
          "base_uri": "https://localhost:8080/"
        },
        "outputId": "06ce7f55-0d00-4c02-935e-b58c542682e5"
      },
      "source": [
        "# do validation in memory\n",
        "valid_gen = helper_1.make_generator(ids[ids.set=='validation'], batch_size = 16)\n",
        "\n",
        "helper_1.train(valid_gen=valid_gen, lr=1e-4, epochs=1)\n",
        "helper_1.load_model()\n",
        "#helper.train(valid_gen=valid_gen, lr=1e-4/5, epochs=20)\n",
        "\n",
        "helper_2.train(valid_gen=valid_gen, lr=1e-4, epochs=1)\n",
        "helper_2.load_model()\n",
        "#helper.train(valid_gen=valid_gen, lr=1e-4/5, epochs=20)\n",
        "\n",
        "helper_3.train(valid_gen=valid_gen, lr=1e-4, epochs=1)\n",
        "helper_3.load_model()\n",
        "#helper.train(valid_gen=valid_gen, lr=1e-4/5, epochs=20)\n",
        "\n",
        "helper_4.train(valid_gen=valid_gen, lr=1e-4, epochs=1)\n",
        "helper_4.load_model()\n",
        "#helper.train(valid_gen=valid_gen, lr=1e-4/5, epochs=20)\n",
        "\n",
        "helper_5.train(valid_gen=valid_gen, lr=1e-4, epochs=1)\n",
        "helper_5.load_model()\n",
        "#helper.train(valid_gen=valid_gen, lr=1e-4/5, epochs=20)\n",
        "\n",
        "helper_6.train(valid_gen=valid_gen, lr=1e-4, epochs=1)\n",
        "helper_6.load_model()\n",
        "#helper.train(valid_gen=valid_gen, lr=1e-4/5, epochs=20)"
      ],
      "execution_count": null,
      "outputs": [
        {
          "output_type": "stream",
          "name": "stdout",
          "text": [
            "Training model: Model_1/bsz:16 i:1[384,512,3] l:MSE o:1[1]\n"
          ]
        },
        {
          "output_type": "stream",
          "name": "stderr",
          "text": [
            "/usr/local/lib/python3.7/dist-packages/kuti/model_helper.py:333: UserWarning: `Model.fit_generator` is deprecated and will be removed in a future version. Please use `Model.fit`, which supports generators.\n",
            "  verbose             = verbose)\n"
          ]
        },
        {
          "output_type": "stream",
          "name": "stdout",
          "text": [
            "442/442 [==============================] - 468s 961ms/step - loss: 3550.3403 - MAE: 58.2618 - plcc_tf: 0.6167 - val_loss: 2893.3362 - val_MAE: 52.6542 - val_plcc_tf: 0.7119\n",
            "Model weights loaded: Model_1/bsz:16 i:1[384,512,3] l:MSE o:1[1]_best_weights.h5\n",
            "Training model: Model_2/bsz:16 i:1[384,512,3] l:MSE o:1[1]\n"
          ]
        },
        {
          "output_type": "stream",
          "name": "stderr",
          "text": [
            "/usr/local/lib/python3.7/dist-packages/kuti/model_helper.py:333: UserWarning: `Model.fit_generator` is deprecated and will be removed in a future version. Please use `Model.fit`, which supports generators.\n",
            "  verbose             = verbose)\n"
          ]
        },
        {
          "output_type": "stream",
          "name": "stdout",
          "text": [
            "442/442 [==============================] - 173s 360ms/step - loss: 3527.7988 - MAE: 58.2921 - plcc_tf: 0.7098 - val_loss: 3086.2026 - val_MAE: 54.9187 - val_plcc_tf: 0.8391\n",
            "Model weights loaded: Model_2/bsz:16 i:1[384,512,3] l:MSE o:1[1]_best_weights.h5\n",
            "Training model: Model_3/bsz:16 i:1[384,512,3] l:MSE o:1[1]\n"
          ]
        },
        {
          "output_type": "stream",
          "name": "stderr",
          "text": [
            "/usr/local/lib/python3.7/dist-packages/kuti/model_helper.py:333: UserWarning: `Model.fit_generator` is deprecated and will be removed in a future version. Please use `Model.fit`, which supports generators.\n",
            "  verbose             = verbose)\n"
          ]
        },
        {
          "output_type": "stream",
          "name": "stdout",
          "text": [
            "442/442 [==============================] - 216s 464ms/step - loss: 3579.7402 - MAE: 58.3052 - plcc_tf: 0.5010 - val_loss: 7256.1216 - val_MAE: 83.8010 - val_plcc_tf: 0.5359\n",
            "Model weights loaded: Model_3/bsz:16 i:1[384,512,3] l:MSE o:1[1]_best_weights.h5\n",
            "Training model: Model_4/bsz:16 i:1[384,512,3] l:MSE o:1[1]\n"
          ]
        },
        {
          "output_type": "stream",
          "name": "stderr",
          "text": [
            "/usr/local/lib/python3.7/dist-packages/kuti/model_helper.py:333: UserWarning: `Model.fit_generator` is deprecated and will be removed in a future version. Please use `Model.fit`, which supports generators.\n",
            "  verbose             = verbose)\n"
          ]
        },
        {
          "output_type": "stream",
          "name": "stdout",
          "text": [
            "442/442 [==============================] - 183s 387ms/step - loss: 3524.6995 - MAE: 58.3239 - plcc_tf: 0.7344 - val_loss: 4647.7290 - val_MAE: 66.2833 - val_plcc_tf: -0.3639\n",
            "Model weights loaded: Model_4/bsz:16 i:1[384,512,3] l:MSE o:1[1]_best_weights.h5\n",
            "Training model: Model_5/bsz:16 i:1[384,512,3] l:MSE o:1[1]\n"
          ]
        },
        {
          "output_type": "stream",
          "name": "stderr",
          "text": [
            "/usr/local/lib/python3.7/dist-packages/kuti/model_helper.py:333: UserWarning: `Model.fit_generator` is deprecated and will be removed in a future version. Please use `Model.fit`, which supports generators.\n",
            "  verbose             = verbose)\n"
          ]
        },
        {
          "output_type": "stream",
          "name": "stdout",
          "text": [
            "442/442 [==============================] - 358s 745ms/step - loss: 3537.0706 - MAE: 58.2999 - plcc_tf: 0.6715 - val_loss: 2880.5188 - val_MAE: 52.8261 - val_plcc_tf: 0.7885\n",
            "Model weights loaded: Model_5/bsz:16 i:1[384,512,3] l:MSE o:1[1]_best_weights.h5\n"
          ]
        },
        {
          "output_type": "execute_result",
          "data": {
            "text/plain": [
              "True"
            ]
          },
          "metadata": {},
          "execution_count": 5
        }
      ]
    },
    {
      "cell_type": "markdown",
      "metadata": {
        "id": "tBi5Th28CBE7"
      },
      "source": [
        "### Test model on the default test set"
      ]
    },
    {
      "cell_type": "code",
      "metadata": {
        "id": "7nFdL8VDB0g4",
        "colab": {
          "base_uri": "https://localhost:8080/",
          "height": 520
        },
        "outputId": "2709e0f1-44e6-4737-da9d-b341b3d29e3c"
      },
      "source": [
        "y_pred_1 = helper_1.predict()\n",
        "y_pred_2 = helper_2.predict()\n",
        "y_pred_3 = helper_3.predict()\n",
        "y_pred_4 = helper_4.predict()\n",
        "y_pred_5 = helper_5.predict()\n",
        "y_pred_6 = helper_6.predict()\n",
        "y_true = ids[ids.set=='test'].MOS.values\n",
        "\n",
        "tmp = np.array([y_pred_1, y_pred_2, y_pred_3, y_pred_4, y_pred_5, y_pred_6])\n",
        "y_pred = np.median(tmp, axis=0)\n",
        "apps.rating_metrics(y_true, y_pred)"
      ],
      "execution_count": null,
      "outputs": [
        {
          "output_type": "stream",
          "name": "stderr",
          "text": [
            "/usr/local/lib/python3.7/dist-packages/kuti/model_helper.py:417: UserWarning: `Model.predict_generator` is deprecated and will be removed in a future version. Please use `Model.predict`, which supports generators.\n",
            "  use_multiprocessing=False)\n",
            "/usr/local/lib/python3.7/dist-packages/kuti/model_helper.py:417: UserWarning: `Model.predict_generator` is deprecated and will be removed in a future version. Please use `Model.predict`, which supports generators.\n",
            "  use_multiprocessing=False)\n",
            "/usr/local/lib/python3.7/dist-packages/kuti/model_helper.py:417: UserWarning: `Model.predict_generator` is deprecated and will be removed in a future version. Please use `Model.predict`, which supports generators.\n",
            "  use_multiprocessing=False)\n",
            "/usr/local/lib/python3.7/dist-packages/kuti/model_helper.py:417: UserWarning: `Model.predict_generator` is deprecated and will be removed in a future version. Please use `Model.predict`, which supports generators.\n",
            "  use_multiprocessing=False)\n",
            "/usr/local/lib/python3.7/dist-packages/kuti/model_helper.py:417: UserWarning: `Model.predict_generator` is deprecated and will be removed in a future version. Please use `Model.predict`, which supports generators.\n",
            "  use_multiprocessing=False)\n"
          ]
        },
        {
          "output_type": "stream",
          "name": "stdout",
          "text": [
            "SRCC: 0.829 | PLCC: 0.862 | MAE: 56.047 | RMSE: 56.616\n"
          ]
        },
        {
          "output_type": "display_data",
          "data": {
            "image/png": "[encoded data removed]",
            "text/plain": [
              "<Figure size 432x288 with 1 Axes>"
            ]
          },
          "metadata": {
            "needs_background": "light"
          }
        },
        {
          "output_type": "execute_result",
          "data": {
            "text/plain": [
              "(0.829, 0.862, 56.047, 56.616)"
            ]
          },
          "metadata": {},
          "execution_count": 6
        }
      ]
    },
    {
      "cell_type": "code",
      "metadata": {
        "colab": {
          "base_uri": "https://localhost:8080/",
          "height": 318
        },
        "id": "dETGsjw47FDP",
        "outputId": "7a6de78e-19d1-4def-d2c0-f911baa005ad"
      },
      "source": [
        "apps.rating_metrics(y_true, y_pred_5)"
      ],
      "execution_count": null,
      "outputs": [
        {
          "output_type": "stream",
          "name": "stdout",
          "text": [
            "SRCC: 0.77 | PLCC: 0.806 | MAE: 53.275 | RMSE: 54.057\n"
          ]
        },
        {
          "output_type": "display_data",
          "data": {
            "image/png": "[encoded data removed]",
            "text/plain": [
              "<Figure size 432x288 with 1 Axes>"
            ]
          },
          "metadata": {
            "needs_background": "light"
          }
        },
        {
          "output_type": "execute_result",
          "data": {
            "text/plain": [
              "(0.77, 0.806, 53.275, 54.057)"
            ]
          },
          "metadata": {},
          "execution_count": 11
        }
      ]
    },
    {
      "cell_type": "code",
      "metadata": {
        "id": "JtdWsAuYETo-"
      },
      "source": [
        ""
      ],
      "execution_count": null,
      "outputs": []
    }
  ]
}